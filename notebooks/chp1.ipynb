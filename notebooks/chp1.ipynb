{
 "cells": [
  {
   "cell_type": "markdown",
   "id": "785d1bde",
   "metadata": {},
   "source": [
    "# Chp 1 It's all about the Data"
   ]
  },
  {
   "cell_type": "code",
   "execution_count": 2,
   "id": "7df0efa0",
   "metadata": {},
   "outputs": [
    {
     "name": "stdout",
     "output_type": "stream",
     "text": [
      "Collecting numpy\n",
      "  Downloading numpy-2.3.3-cp313-cp313-macosx_14_0_x86_64.whl.metadata (62 kB)\n",
      "Downloading numpy-2.3.3-cp313-cp313-macosx_14_0_x86_64.whl (6.6 MB)\n",
      "\u001b[2K   \u001b[90m━━━━━━━━━━━━━━━━━━━━━━━━━━━━━━━━━━━━━━━━\u001b[0m \u001b[32m6.6/6.6 MB\u001b[0m \u001b[31m32.6 MB/s\u001b[0m eta \u001b[36m0:00:00\u001b[0m00:01\u001b[0m\n",
      "\u001b[?25hInstalling collected packages: numpy\n",
      "\u001b[33m  WARNING: The scripts f2py and numpy-config are installed in '/Library/Frameworks/Python.framework/Versions/3.13/bin' which is not on PATH.\n",
      "  Consider adding this directory to PATH or, if you prefer to suppress this warning, use --no-warn-script-location.\u001b[0m\u001b[33m\n",
      "\u001b[0mSuccessfully installed numpy-2.3.3\n",
      "\n",
      "\u001b[1m[\u001b[0m\u001b[34;49mnotice\u001b[0m\u001b[1;39;49m]\u001b[0m\u001b[39;49m A new release of pip is available: \u001b[0m\u001b[31;49m24.2\u001b[0m\u001b[39;49m -> \u001b[0m\u001b[32;49m25.2\u001b[0m\n",
      "\u001b[1m[\u001b[0m\u001b[34;49mnotice\u001b[0m\u001b[1;39;49m]\u001b[0m\u001b[39;49m To update, run: \u001b[0m\u001b[32;49mpython3 -m pip install --upgrade pip\u001b[0m\n",
      "Note: you may need to restart the kernel to use updated packages.\n"
     ]
    }
   ],
   "source": [
    "%pip install numpy"
   ]
  },
  {
   "cell_type": "code",
   "execution_count": 5,
   "id": "b4941da4",
   "metadata": {},
   "outputs": [
    {
     "name": "stdout",
     "output_type": "stream",
     "text": [
      "Collecting matplotlib\n",
      "  Downloading matplotlib-3.10.6-cp313-cp313-macosx_10_13_x86_64.whl.metadata (11 kB)\n",
      "Collecting contourpy>=1.0.1 (from matplotlib)\n",
      "  Downloading contourpy-1.3.3-cp313-cp313-macosx_10_13_x86_64.whl.metadata (5.5 kB)\n",
      "Collecting cycler>=0.10 (from matplotlib)\n",
      "  Downloading cycler-0.12.1-py3-none-any.whl.metadata (3.8 kB)\n",
      "Collecting fonttools>=4.22.0 (from matplotlib)\n",
      "  Downloading fonttools-4.60.0-cp313-cp313-macosx_10_13_x86_64.whl.metadata (111 kB)\n",
      "Collecting kiwisolver>=1.3.1 (from matplotlib)\n",
      "  Downloading kiwisolver-1.4.9-cp313-cp313-macosx_10_13_x86_64.whl.metadata (6.3 kB)\n",
      "Requirement already satisfied: numpy>=1.23 in /Library/Frameworks/Python.framework/Versions/3.13/lib/python3.13/site-packages (from matplotlib) (2.3.3)\n",
      "Requirement already satisfied: packaging>=20.0 in /Users/aaronkr/Library/Python/3.13/lib/python/site-packages (from matplotlib) (25.0)\n",
      "Collecting pillow>=8 (from matplotlib)\n",
      "  Downloading pillow-11.3.0-cp313-cp313-macosx_10_13_x86_64.whl.metadata (9.0 kB)\n",
      "Collecting pyparsing>=2.3.1 (from matplotlib)\n",
      "  Downloading pyparsing-3.2.4-py3-none-any.whl.metadata (5.0 kB)\n",
      "Requirement already satisfied: python-dateutil>=2.7 in /Users/aaronkr/Library/Python/3.13/lib/python/site-packages (from matplotlib) (2.9.0.post0)\n",
      "Requirement already satisfied: six>=1.5 in /Users/aaronkr/Library/Python/3.13/lib/python/site-packages (from python-dateutil>=2.7->matplotlib) (1.17.0)\n",
      "Downloading matplotlib-3.10.6-cp313-cp313-macosx_10_13_x86_64.whl (8.3 MB)\n",
      "\u001b[2K   \u001b[90m━━━━━━━━━━━━━━━━━━━━━━━━━━━━━━━━━━━━━━━━\u001b[0m \u001b[32m8.3/8.3 MB\u001b[0m \u001b[31m33.3 MB/s\u001b[0m  \u001b[33m0:00:00\u001b[0mm0:00:01\u001b[0m\n",
      "\u001b[?25hDownloading contourpy-1.3.3-cp313-cp313-macosx_10_13_x86_64.whl (293 kB)\n",
      "Downloading cycler-0.12.1-py3-none-any.whl (8.3 kB)\n",
      "Downloading fonttools-4.60.0-cp313-cp313-macosx_10_13_x86_64.whl (2.3 MB)\n",
      "\u001b[2K   \u001b[90m━━━━━━━━━━━━━━━━━━━━━━━━━━━━━━━━━━━━━━━━\u001b[0m \u001b[32m2.3/2.3 MB\u001b[0m \u001b[31m11.6 MB/s\u001b[0m  \u001b[33m0:00:00\u001b[0m\n",
      "\u001b[?25hDownloading kiwisolver-1.4.9-cp313-cp313-macosx_10_13_x86_64.whl (66 kB)\n",
      "Downloading pillow-11.3.0-cp313-cp313-macosx_10_13_x86_64.whl (5.3 MB)\n",
      "\u001b[2K   \u001b[90m━━━━━━━━━━━━━━━━━━━━━━━━━━━━━━━━━━━━━━━━\u001b[0m \u001b[32m5.3/5.3 MB\u001b[0m \u001b[31m30.8 MB/s\u001b[0m  \u001b[33m0:00:00\u001b[0m\n",
      "\u001b[?25hDownloading pyparsing-3.2.4-py3-none-any.whl (113 kB)\n",
      "Installing collected packages: pyparsing, pillow, kiwisolver, fonttools, cycler, contourpy, matplotlib\n",
      "\u001b[2K   \u001b[91m━━━━━━━━━━━━━━━━━\u001b[0m\u001b[90m╺\u001b[0m\u001b[90m━━━━━━━━━━━━━━━━━━━━━━\u001b[0m \u001b[32m3/7\u001b[0m [fonttools]\u001b[33m  WARNING: The scripts fonttools, pyftmerge, pyftsubset and ttx are installed in '/Library/Frameworks/Python.framework/Versions/3.13/bin' which is not on PATH.\n",
      "  Consider adding this directory to PATH or, if you prefer to suppress this warning, use --no-warn-script-location.\u001b[0m\u001b[33m\n",
      "\u001b[2K   \u001b[90m━━━━━━━━━━━━━━━━━━━━━━━━━━━━━━━━━━━━━━━━\u001b[0m \u001b[32m7/7\u001b[0m [matplotlib]7\u001b[0m [matplotlib]\n",
      "\u001b[1A\u001b[2KSuccessfully installed contourpy-1.3.3 cycler-0.12.1 fonttools-4.60.0 kiwisolver-1.4.9 matplotlib-3.10.6 pillow-11.3.0 pyparsing-3.2.4\n",
      "Note: you may need to restart the kernel to use updated packages.\n"
     ]
    }
   ],
   "source": [
    "%pip install matplotlib"
   ]
  },
  {
   "cell_type": "code",
   "execution_count": 6,
   "id": "2a97f807",
   "metadata": {},
   "outputs": [
    {
     "name": "stderr",
     "output_type": "stream",
     "text": [
      "Matplotlib is building the font cache; this may take a moment.\n"
     ]
    },
    {
     "data": {
      "image/png": "[encoded data removed]",
      "text/plain": [
       "<Figure size 640x480 with 1 Axes>"
      ]
     },
     "metadata": {},
     "output_type": "display_data"
    }
   ],
   "source": [
    "# Box plot\n",
    "import numpy as np\n",
    "import matplotlib.pyplot as plt \n",
    "\n",
    "d = [[ 0.6930, -1.1259, -1.5318,  0.9525,  1.1824],\n",
    "     [ 0.5464, -0.0120,  0.5051, -0.0192, -0.1141],\n",
    "     [ 0.8912,  1.3826,  1.5193, -1.1996, -1.1403],\n",
    "     [ 1.1690,  0.4970, -0.1712, -0.5340,  0.3047],\n",
    "     [-0.9221, -0.1071,  0.3079, -0.3885, -0.4753],\n",
    "     [ 1.5699, -1.4767,  0.3327,  1.4714,  1.1807],\n",
    "     [-0.3479,  0.4775,  1.8823, -1.4031, -0.7396],\n",
    "     [ 0.0887, -0.4353, -1.7377, -1.2349,  1.7456],\n",
    "     [ 1.0775,  0.9524,  1.2475,  0.7291, -1.1207],\n",
    "     [-1.4657,  0.9250, -1.0446,  0.4262, -1.0279],\n",
    "     [-1.3332,  1.4501,  0.0323,  1.1102, -0.8966],\n",
    "     [ 0.3005, -1.4500, -0.2615,  1.7033, -0.2505],\n",
    "     [-1.4377, -0.2472, -0.4340, -0.7032,  0.3362],\n",
    "     [ 0.3016, -1.5527, -0.6213,  0.1780, -0.7517],\n",
    "     [-1.1315,  0.7225, -0.0250, -1.0881,  1.7674]]\n",
    "d = np.array(d)\n",
    "plt.boxplot(d)\n",
    "plt.show()\n",
    "\n"
   ]
  },
  {
   "cell_type": "code",
   "execution_count": 9,
   "id": "7c3f341b",
   "metadata": {},
   "outputs": [
    {
     "name": "stdout",
     "output_type": "stream",
     "text": [
      "Collecting scikit-learn\n",
      "  Downloading scikit_learn-1.7.2-cp313-cp313-macosx_10_13_x86_64.whl.metadata (11 kB)\n",
      "Requirement already satisfied: numpy>=1.22.0 in /Library/Frameworks/Python.framework/Versions/3.13/lib/python3.13/site-packages (from scikit-learn) (2.3.3)\n",
      "Collecting scipy>=1.8.0 (from scikit-learn)\n",
      "  Downloading scipy-1.16.2-cp313-cp313-macosx_14_0_x86_64.whl.metadata (62 kB)\n",
      "Collecting joblib>=1.2.0 (from scikit-learn)\n",
      "  Downloading joblib-1.5.2-py3-none-any.whl.metadata (5.6 kB)\n",
      "Collecting threadpoolctl>=3.1.0 (from scikit-learn)\n",
      "  Downloading threadpoolctl-3.6.0-py3-none-any.whl.metadata (13 kB)\n",
      "Downloading scikit_learn-1.7.2-cp313-cp313-macosx_10_13_x86_64.whl (9.2 MB)\n",
      "\u001b[2K   \u001b[90m━━━━━━━━━━━━━━━━━━━━━━━━━━━━━━━━━━━━━━━━\u001b[0m \u001b[32m9.2/9.2 MB\u001b[0m \u001b[31m34.3 MB/s\u001b[0m  \u001b[33m0:00:00\u001b[0m eta \u001b[36m0:00:01\u001b[0m\n",
      "\u001b[?25hDownloading joblib-1.5.2-py3-none-any.whl (308 kB)\n",
      "Downloading scipy-1.16.2-cp313-cp313-macosx_14_0_x86_64.whl (23.5 MB)\n",
      "\u001b[2K   \u001b[90m━━━━━━━━━━━━━━━━━━━━━━━━━━━━━━━━━━━━━━━━\u001b[0m \u001b[32m23.5/23.5 MB\u001b[0m \u001b[31m32.5 MB/s\u001b[0m  \u001b[33m0:00:00\u001b[0mm0:00:01\u001b[0m00:01\u001b[0m\n",
      "\u001b[?25hDownloading threadpoolctl-3.6.0-py3-none-any.whl (18 kB)\n",
      "Installing collected packages: threadpoolctl, scipy, joblib, scikit-learn\n",
      "\u001b[2K   \u001b[90m━━━━━━━━━━━━━━━━━━━━━━━━━━━━━━━━━━━━━━━━\u001b[0m \u001b[32m4/4\u001b[0m [scikit-learn][0m [scikit-learn]\n",
      "\u001b[1A\u001b[2KSuccessfully installed joblib-1.5.2 scikit-learn-1.7.2 scipy-1.16.2 threadpoolctl-3.6.0\n",
      "Note: you may need to restart the kernel to use updated packages.\n"
     ]
    }
   ],
   "source": [
    "%pip install scikit-learn"
   ]
  },
  {
   "cell_type": "code",
   "execution_count": null,
   "id": "c1423bb0",
   "metadata": {},
   "outputs": [],
   "source": [
    "# Dataset Exact\n",
    "import numpy as np\n",
    "from sklearn.datasets import make_classification\n",
    "\n",
    "a,b = make_classification(n_samples=10000, weights=[0.9,0.1])\n",
    "idx = np.where(b == 0)[0]\n",
    "x0 = a[idx,:]\n",
    "y0 = b[idx]\n",
    "idx = np.where(b == 1)[0]\n",
    "x1 = a[idx,:]\n",
    "y1 = b[idx]\n",
    "\n",
    "idx = np.argsort(np.random.random(y0.shape))\n",
    "y0 = y0[idx]\n",
    "x0 = x0[idx]\n",
    "idx = np.argsort(np.random.random(y1.shape))\n",
    "y1 = y1[idx]\n",
    "x1 = x1[idx]\n",
    "\n",
    "ntrn0 = int(0.9*x0.shape[0])\n",
    "ntrn1 = int(0.9*x1.shape[0])\n",
    "xtrn = np.zeros((int(ntrn0+ntrn1),20))\n",
    "ytrn = np.zeros(int(ntrn0+ntrn1))\n",
    "xtrn[:ntrn0] = x0[:ntrn0]\n",
    "xtrn[ntrn0:] = x1[:ntrn1]\n",
    "ytrn[:ntrn0] = y0[:ntrn0]\n",
    "ytrn[ntrn0:] = y1[:ntrn1]\n",
    "\n",
    "n0 = int(x0.shape[0]-ntrn0)\n",
    "n1 = int(x1.shape[0]-ntrn1)\n",
    "xval = np.zeros((int(n0/2+n1/2),20))\n",
    "yval = np.zeros(int(n0/2+n1/2))\n",
    "xval[:(n0//2)] = x0[ntrn0:(ntrn0+n0//2)]\n",
    "xval[(n0//2):] = x1[ntrn1:(ntrn1+n1//2)]\n",
    "yval[:(n0//2)] = y0[ntrn0:(ntrn0+n0//2)]\n",
    "yval[(n0//2):] = y1[ntrn1:(ntrn1+n1//2)]\n",
    "\n",
    "xtst = np.concatenate((x0[(ntrn0+n0//2):],x1[(ntrn1+n1//2):]))\n",
    "ytst = np.concatenate((y0[(ntrn0+n0//2):],y1[(ntrn1+n1//2):]))\n",
    "\n"
   ]
  },
  {
   "cell_type": "code",
   "execution_count": 11,
   "id": "89c09fbd",
   "metadata": {},
   "outputs": [],
   "source": [
    "# Dataset Random\n",
    "import numpy as np\n",
    "from sklearn.datasets import make_classification\n",
    "\n",
    "x,y = make_classification(n_samples=10000, weights=[0.9,0.1])\n",
    "idx = np.argsort(np.random.random(y.shape[0]))\n",
    "x = x[idx]\n",
    "y = y[idx]\n",
    "\n",
    "ntrn = int(0.9*y.shape[0])\n",
    "nval = int(0.05*y.shape[0])\n",
    "\n",
    "xtrn = x[:ntrn]\n",
    "ytrn = y[:ntrn]\n",
    "xval = x[ntrn:(ntrn+nval)]\n",
    "yval = y[ntrn:(ntrn+nval)]\n",
    "xtst = x[(ntrn+nval):]\n",
    "ytst = y[(ntrn+nval):]"
   ]
  },
  {
   "cell_type": "code",
   "execution_count": null,
   "id": "af7b7e20",
   "metadata": {},
   "outputs": [
    {
     "name": "stdout",
     "output_type": "stream",
     "text": [
      "mean  = 2.3519\n",
      "std   = 1.3128\n",
      "SE    = 0.3390\n",
      "median= 2.3190\n",
      "min   = 0.0705\n",
      "max   = 4.8231\n"
     ]
    }
   ],
   "source": [
    "# Feature Stats\n",
    "import numpy as np\n",
    "\n",
    "f = [0.3408,3.0150,4.3465,2.1271,2.7561,\n",
    "     2.7887,4.8231,0.0705,3.9897,0.9804,\n",
    "     2.3944,2.0085,1.7821,1.5362,2.3190]\n",
    "f = np.array(f)\n",
    "\n",
    "print\n",
    "print(\"mean  = %0.4f\" % f.mean())\n",
    "print(\"std   = %0.4f\" % f.std())\n",
    "print(\"SE    = %0.4f\" % (f.std()/np.sqrt(f.shape[0])))\n",
    "print(\"median= %0.4f\" % np.median(f))\n",
    "print(\"min   = %0.4f\" % f.min())\n",
    "print(\"max   = %0.4f\" % f.max())\n",
    "\n"
   ]
  },
  {
   "cell_type": "code",
   "execution_count": null,
   "id": "9694939a",
   "metadata": {},
   "outputs": [],
   "source": []
  }
 ],
 "metadata": {
  "kernelspec": {
   "display_name": "Python 3",
   "language": "python",
   "name": "python3"
  },
  "language_info": {
   "codemirror_mode": {
    "name": "ipython",
    "version": 3
   },
   "file_extension": ".py",
   "mimetype": "text/x-python",
   "name": "python",
   "nbconvert_exporter": "python",
   "pygments_lexer": "ipython3",
   "version": "3.13.0"
  }
 },
 "nbformat": 4,
 "nbformat_minor": 5
}
